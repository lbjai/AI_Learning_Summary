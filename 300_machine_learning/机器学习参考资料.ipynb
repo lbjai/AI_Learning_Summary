{
 "cells": [
  {
   "cell_type": "markdown",
   "metadata": {},
   "source": [
    "参考资料：\n",
    "- https://github.com/NLP-LOVE/ML-NLP\n",
    "- https://www.cnblogs.com/mantch/p/11164221.html\n",
    "\n",
    "视频：\n",
    "- https://www.bilibili.com/video/BV1M84y1h7fn/?spm_id_from=333.999.0.0&vd_source=d5052107b74a42fd851a8450f9ccd303\n",
    "- https://space.bilibili.com/272540947/favlist?spm_id_from=333.788.0.0\n",
    "- https://www.bilibili.com/video/BV1nt411r7tj/?spm_id_from=333.999.0.0&vd_source=d5052107b74a42fd851a8450f9ccd303\n",
    "- https://www.bilibili.com/video/BV1cG4y127fD/?spm_id_from=444.41.top_right_bar_window_default_collection.content.click&vd_source=d5052107b74a42fd851a8450f9ccd303\n",
    "\n",
    "\n",
    "\n",
    "\n",
    "Python 量化\n",
    "- https://www.bilibili.com/video/BV1UY411c7Yo/?spm_id_from=333.999.0.0&vd_source=d5052107b74a42fd851a8450f9ccd303\n",
    "\n",
    "- https://www.bilibili.com/video/BV1V24y1Y7eY/?spm_id_from=333.1007.tianma.1-2-2.click&vd_source=d5052107b74a42fd851a8450f9ccd303\n",
    "\n",
    "- https://www.bilibili.com/video/BV1yB4y1u7kx/?spm_id_from=333.337.search-card.all.click&vd_source=d5052107b74a42fd851a8450f9ccd303"
   ]
  },
  {
   "cell_type": "markdown",
   "metadata": {},
   "source": [
    "华校专文档：\n",
    "- https://www.huaxiaozhuan.com/"
   ]
  },
  {
   "cell_type": "markdown",
   "metadata": {},
   "source": [
    "opencv：\n",
    "https://github.com/AccumulateMore/OpenCV"
   ]
  }
 ],
 "metadata": {
  "kernelspec": {
   "display_name": "Python 3",
   "language": "python",
   "name": "python3"
  },
  "language_info": {
   "codemirror_mode": {
    "name": "ipython",
    "version": 3
   },
   "file_extension": ".py",
   "mimetype": "text/x-python",
   "name": "python",
   "nbconvert_exporter": "python",
   "pygments_lexer": "ipython3",
   "version": "3.6.5"
  }
 },
 "nbformat": 4,
 "nbformat_minor": 4
}
