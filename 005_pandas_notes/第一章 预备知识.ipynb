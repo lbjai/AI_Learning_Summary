{
 "cells": [
  {
   "cell_type": "markdown",
   "metadata": {},
   "source": [
    "<center><h1>第一章 预备知识</h1></center>"
   ]
  },
  {
   "cell_type": "code",
   "execution_count": 9,
   "metadata": {},
   "outputs": [
    {
     "data": {
      "text/plain": [
       "'/Users/lbj/.virtualenvs/moenv/lib/python3.6/site-packages/joyful_pandas/data'"
      ]
     },
     "execution_count": 9,
     "metadata": {},
     "output_type": "execute_result"
    }
   ],
   "source": [
    "from config import data_path\n",
    "data_path"
   ]
  },
  {
   "cell_type": "markdown",
   "metadata": {},
   "source": [
    "## 一、Python 基础\n",
    "\n",
    "### 1.zip对象与enumerate方法\n",
    "\n",
    "`zip`函数能够把多个可迭代对象**打包**成一个元组构成的**可迭代对象**，它返回了一个`zip`对象，通过`tuple`, `list`可以得到相应的打包结果。\n",
    "\n",
    "> zip( *iterable)\n",
    "\n",
    "参数值:                  \n",
    "函数中的iterable参数可以是零个，一个或者多个迭代器。\n",
    "它们可以是内置的如列表、字典、字符串，或者是用户自定义的迭代器。\n",
    "\n",
    "返回值:                         \n",
    "zip()函数的工作原理是**创建出一个迭代器，该迭代器可产出元组**。                         \n",
    "特别地，当传入zip的参数个数是0个是，zip()返回的是一个空的迭代器。当传入一个参数时，zip()返回的元组迭代器产出的是只有一个元素的元组。传入多个参数的情况依此类推。\n",
    "\n",
    "\n",
    "- 当zip对象长度不一致时，zip函数自动取最短的可迭代对象"
   ]
  },
  {
   "cell_type": "code",
   "execution_count": 3,
   "metadata": {},
   "outputs": [
    {
     "name": "stdout",
     "output_type": "stream",
     "text": [
      "a d 0\n",
      "b e 1\n",
      "c f 2\n"
     ]
    }
   ],
   "source": [
    "L1 = 'abc'\n",
    "L2 = list('defgh')\n",
    "L3 = [i for i in range(10)]\n",
    "# 往往会在循环迭代的时候使用到`zip`函数：\n",
    "for i, j, k in zip(L1, L2, L3):\n",
    "     print(i, j, k)"
   ]
  },
  {
   "cell_type": "markdown",
   "metadata": {},
   "source": [
    "- `enumerate`是一种特殊的打包，它可以在迭代时绑定迭代元素的遍历序号："
   ]
  },
  {
   "cell_type": "code",
   "execution_count": 4,
   "metadata": {},
   "outputs": [
    {
     "name": "stdout",
     "output_type": "stream",
     "text": [
      "0 a\n",
      "1 b\n",
      "2 c\n",
      "3 d\n"
     ]
    }
   ],
   "source": [
    "L = list('abcd')\n",
    "for index, value in enumerate(L):\n",
    "     print(index, value)"
   ]
  },
  {
   "cell_type": "markdown",
   "metadata": {},
   "source": [
    "- 当多个可迭代对象一起zip时并想以最长的可迭代容器为准，比其短的使用None替代，则结果如下："
   ]
  },
  {
   "cell_type": "code",
   "execution_count": 7,
   "metadata": {},
   "outputs": [
    {
     "name": "stdout",
     "output_type": "stream",
     "text": [
      "a d 0\n",
      "b e 1\n",
      "c f 2\n",
      "None g 3\n",
      "None h 4\n",
      "None None 5\n",
      "None None 6\n",
      "None None 7\n",
      "None None 8\n",
      "None None 9\n"
     ]
    }
   ],
   "source": [
    "from itertools import zip_longest\n",
    "for i, j, k in zip_longest(L1, L2, L3):\n",
    "     print(i, j, k)"
   ]
  },
  {
   "cell_type": "markdown",
   "metadata": {},
   "source": [
    "## 二、Numpy基础\n",
    "### 1. np数组的构造\n",
    "最一般的方法是通过`array`来构造："
   ]
  },
  {
   "cell_type": "code",
   "execution_count": 12,
   "metadata": {},
   "outputs": [
    {
     "data": {
      "text/plain": [
       "array([1, 2, 3])"
      ]
     },
     "execution_count": 12,
     "metadata": {},
     "output_type": "execute_result"
    }
   ],
   "source": [
    "import numpy as np\n",
    "np.array([1,2,3])"
   ]
  },
  {
   "cell_type": "markdown",
   "metadata": {},
   "source": [
    "### 1. np数组的构造\n",
    "- 最一般的方法是通过`array`来构造\n",
    "- 等差序列：`np.linspace`, `np.arange`\n",
    "- 特殊矩阵：`zeros`, `eye`, `full`\n",
    "- 随机矩阵：`np.random`\n",
    "    - 均匀分布：\n",
    "        - 0-1均匀分布的随机数组：np.random.rand\n",
    "        - a-b均匀分布的随机数组：np.random.uniform(a,b,生成的数量)\n",
    "    - 标准正态：np.random.randn\n",
    "        - 标准正态的随机数组：np.random.randn(0,1,生成的数量)\n",
    "        - 方差为$\\sigma^2$均值为$\\mu$的一元正态分布：\n",
    "            - $\\mu$+np.random.randn(生成的数量)*$\\sigma^2$\n",
    "            - np.random.normal($\\mu$, $\\sigma^2$, 生成的数量)\n",
    "    - 随机整数组：\n",
    "        - 指定生成随机整数的最小值最大值（不包含）和维度大小：np.random.randint\n",
    "    - 随机列表抽样：\n",
    "        - 有放回抽样：不指定概率为均匀抽样\n",
    "            - np.random.choice(my_list, 2, replace=False, p=[0.1, 0.7, 0.1 ,0.1])\n",
    "        - 不放回抽样：\n",
    "            - 返回元素与原列表数量不同：np.random.choice(my_list, 2, replace=True, p=[0.1, 0.7, 0.1 ,0.1])\n",
    "            - 返回元素与原列表数量相同：np.random.permutation"
   ]
  },
  {
   "cell_type": "markdown",
   "metadata": {},
   "source": [
    "### 2. np数组的变形与合并\n",
    "【a】转置：`T`\n",
    "【b】合并操作：`r_`, `c_`\n",
    "【c】维度变换：`reshape`\n",
    "\n",
    "### 3. np数组的切片与索引\n",
    "- 正常索引\n",
    "- `np.ix_`在对应的维度上使用布尔索引，但此时不能使用`slice`切片\n",
    "\n",
    "### 4. 常用函数\n",
    "【a】`where`          \n",
    "【b】`nonzero`返回非零数的索引，`argmax`, `argmin`分别返回最大和最小数的索引      \n",
    "【c】`any`, `all`          \n",
    "【d】`cumprod`, `cumsum`分别表示累乘和累加函数，返回同长度的数组，`diff`表示和前一个元素做差，由于第一个元素为缺失值，因此在默认参数情况下，返回长度是原数组减1         \n",
    "【e】统计函数 max, min, mean, median, std, var, sum \n",
    "    - quantile\n",
    "    - cov 协方差\n",
    "    - corrcoef 相关系数\n",
    "    \n",
    "### 5. 广播机制\n",
    "【a】标量和数组的操作：当一个标量和数组进行运算时，标量会自动把大小扩充为数组大小，之后进行逐元素操作：                    \n",
    "【b】二维数组之间的操作：\n",
    "    - 【正常】当两个数组维度完全一致时，使用对应元素的操作，\n",
    "    - 【广播机制条件】其中的某个数组的维度是$m×1$或者$1×n$\n",
    "\n",
    "### 6. 向量与矩阵的计算\n",
    "【a】向量内积：`dot`：$$\\rm \\mathbf{a}\\cdot\\mathbf{b} = \\sum_ia_ib_i$$           \n",
    "【b】向量范数和矩阵范数：`np.linalg.norm`  默认二范数                \n",
    "【c】矩阵乘法：`@`\n",
    "\n",
    "$$\\rm [\\mathbf{A}_{m\\times p}\\mathbf{B}_{p\\times n}]_{ij} = \\sum_{k=1}^p\\mathbf{A}_{ik}\\mathbf{B}_{kj}$$\n"
   ]
  },
  {
   "cell_type": "code",
   "execution_count": null,
   "metadata": {},
   "outputs": [],
   "source": []
  }
 ],
 "metadata": {
  "kernelspec": {
   "display_name": "Python 3",
   "language": "python",
   "name": "python3"
  },
  "language_info": {
   "codemirror_mode": {
    "name": "ipython",
    "version": 3
   },
   "file_extension": ".py",
   "mimetype": "text/x-python",
   "name": "python",
   "nbconvert_exporter": "python",
   "pygments_lexer": "ipython3",
   "version": "3.6.5"
  }
 },
 "nbformat": 4,
 "nbformat_minor": 4
}
