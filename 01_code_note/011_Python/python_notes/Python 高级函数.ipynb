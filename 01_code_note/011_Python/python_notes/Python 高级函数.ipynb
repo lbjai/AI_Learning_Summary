{
 "cells": [
  {
   "cell_type": "markdown",
   "metadata": {},
   "source": [
    "### Python 高级函数\n",
    "\n",
    "#### 1. map\n",
    "\n",
    "map()函数接受两个参数，一个是**函数**，一个是**Iterable**，map将传入的函数**依次作用到序列的每一个元素**上，并把结果作为新的**迭代器Iterator**返回。\n",
    "\n",
    "Iterator是惰性序列，因此通过list()函数让它把整个序列都计算出来并返回一个list。"
   ]
  },
  {
   "cell_type": "code",
   "execution_count": 1,
   "metadata": {},
   "outputs": [
    {
     "name": "stdout",
     "output_type": "stream",
     "text": [
      "<map object at 0x10c7e8b00> => <class 'map'>\n",
      "[1, 4, 9, 16, 25, 36, 49, 64, 81]\n"
     ]
    }
   ],
   "source": [
    "def f(x):\n",
    "    return x**2\n",
    "\n",
    "r = map(f,[1,2,3,4,5,6,7,8,9])\n",
    "print(r, \"=>\", type(r))\n",
    "print(list(r))"
   ]
  },
  {
   "cell_type": "markdown",
   "metadata": {},
   "source": [
    "#### 2.reduce\n",
    "\n",
    "reduce是把一个函数作用在一个序列[x1, x2, x3……]上，这个函数必须接收两个参数，reduce把结果继续和序列的下一个元素做**累积计算**。简单来说，就是先计算x1和x2的结果，再拿结果与x3计算，依次类推。\n",
    "\n",
    "**注意：Python3.x reduce() 已经被移到 functools 模块里，如果我们要使用，需要引入 functools 模块来调用 reduce() 函数**\n",
    "\n",
    "> from functools import reduce\n",
    "\n",
    "语法\n",
    "\n",
    "> reduce(function, iterable[, initializer])"
   ]
  },
  {
   "cell_type": "code",
   "execution_count": 2,
   "metadata": {},
   "outputs": [
    {
     "name": "stdout",
     "output_type": "stream",
     "text": [
      "15\n"
     ]
    }
   ],
   "source": [
    "from functools import reduce\n",
    "\n",
    "def add(x, y) :            \n",
    "    # 两数相加\n",
    "    return x + y\n",
    "sum1 = reduce(add, [1,2,3,4,5])   # 计算列表和：1+2+3+4+5\n",
    "print(sum1)"
   ]
  },
  {
   "cell_type": "markdown",
   "metadata": {},
   "source": [
    "#### 3.filter\n",
    "\n",
    "filter() 函数用于**过滤序列，过滤掉不符合条件的元素**，返回由符合条件元素组成的新Iterator。\n",
    "\n",
    "该接收两个参数，第一个为函数，第二个为序列，序列的每个元素作为参数传递给函数进行判断，然后返回 True 或 False，最后将返回 True 的元素放到新Iterator中。\n"
   ]
  },
  {
   "cell_type": "code",
   "execution_count": 3,
   "metadata": {},
   "outputs": [
    {
     "name": "stdout",
     "output_type": "stream",
     "text": [
      "<filter object at 0x10c7e8eb8> => <class 'filter'>\n",
      "[1, 3, 5, 7]\n"
     ]
    }
   ],
   "source": [
    "def is_odd(n):\n",
    "    return n%2==1\n",
    "\n",
    "r = filter(is_odd,[i for i in range(0,9)])\n",
    "print(r, \"=>\", type(r))\n",
    "print(list(r))"
   ]
  },
  {
   "cell_type": "markdown",
   "metadata": {},
   "source": [
    "#### 4.sorted\n",
    "\n",
    "sorted() 函数对所有可迭代的对象进行排序操作,返回重新排序的列表。\n",
    "\n",
    "> sorted(iterable, cmp=None, key=None, reverse=False)\n",
    "\n",
    "参数说明：\n",
    "\n",
    "- iterable -- 可迭代对象。\n",
    "- cmp -- 比较的函数，这个具有两个参数，参数的值都是从可迭代对象中取出，此函数必须遵守的规则为，大于则返回1，小于则返回-1，等于则返回0。\n",
    "- key -- 主要是用来进行比较的元素，只有一个参数，具体的函数的参数就是取自于可迭代对象中，指定可迭代对象中的一个元素来进行排序。\n",
    "- reverse -- 排序规则，reverse = True 降序 ， reverse = False 升序（默认）。"
   ]
  },
  {
   "cell_type": "code",
   "execution_count": 6,
   "metadata": {},
   "outputs": [
    {
     "name": "stdout",
     "output_type": "stream",
     "text": [
      "[-7, -3, -1, 2, 4, 5, 6]\n"
     ]
    }
   ],
   "source": [
    "a = [5,-7,6,-3,4,-1,2]\n",
    "r = sorted(a)\n",
    "print(list(r))"
   ]
  },
  {
   "cell_type": "code",
   "execution_count": 7,
   "metadata": {},
   "outputs": [
    {
     "name": "stdout",
     "output_type": "stream",
     "text": [
      "[-7, 6, 5, 4, -3, 2, -1] => <class 'list'>\n",
      "[-7, 6, 5, 4, -3, 2, -1]\n"
     ]
    }
   ],
   "source": [
    "# 按照绝对值降序排列\n",
    "r = sorted(a, key=abs, reverse=True)\n",
    "print(r, \"=>\", type(r))\n",
    "print(list(r))"
   ]
  },
  {
   "cell_type": "code",
   "execution_count": 8,
   "metadata": {},
   "outputs": [
    {
     "name": "stdout",
     "output_type": "stream",
     "text": [
      "[('john', 'A', 15), ('jane', 'B', 12), ('dave', 'B', 10)] => <class 'list'>\n"
     ]
    }
   ],
   "source": [
    "# 按照年龄的降序排列\n",
    "students = [('john', 'A', 15), ('jane', 'B', 12), ('dave', 'B', 10)]\n",
    "r = sorted(students, key=lambda s: s[2], reverse=True) \n",
    "print(r, \"=>\", type(r))"
   ]
  }
 ],
 "metadata": {
  "kernelspec": {
   "display_name": "Python 3",
   "language": "python",
   "name": "python3"
  },
  "language_info": {
   "codemirror_mode": {
    "name": "ipython",
    "version": 3
   },
   "file_extension": ".py",
   "mimetype": "text/x-python",
   "name": "python",
   "nbconvert_exporter": "python",
   "pygments_lexer": "ipython3",
   "version": "3.6.5"
  }
 },
 "nbformat": 4,
 "nbformat_minor": 4
}
