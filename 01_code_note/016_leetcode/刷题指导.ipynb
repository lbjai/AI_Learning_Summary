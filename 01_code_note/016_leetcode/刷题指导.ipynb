{
 "cells": [
  {
   "cell_type": "markdown",
   "metadata": {},
   "source": [
    "### 基础篇\n",
    "基础永远是最重要的，先把最最基础的这些搞熟，磨刀不误砍柴工。\n",
    "\n",
    "- 数组，队列，栈\n",
    "- 链表\n",
    "- 树与递归\n",
    "- 哈希表\n",
    "- 双指针\n"
   ]
  },
  {
   "cell_type": "markdown",
   "metadata": {},
   "source": [
    "### 思想篇\n",
    "\n",
    "这些思想是投资回报率极高的，强烈推荐每一个小的专题花一定的时间掌握。\n",
    "- 二分\n",
    "- 滑动窗口\n",
    "- 搜索（BFS，DFS，回溯）\n",
    "- 动态规划"
   ]
  },
  {
   "cell_type": "markdown",
   "metadata": {},
   "source": [
    "### 提高篇\n",
    "这部分收益没那么明显，并且往往需要一定的技术积累。出现的频率相对而言比较低。但是有的题目需要你使用这些技巧。又或者可以使用这些技巧可以实现降维打击\n",
    "\n",
    "- 贪心\n",
    "- 分治\n",
    "- 位运算\n",
    "- KMP & RK\n",
    "- 并查集\n",
    "- 前缀树\n",
    "- 线段树\n",
    "- 堆"
   ]
  },
  {
   "cell_type": "code",
   "execution_count": null,
   "metadata": {},
   "outputs": [],
   "source": []
  }
 ],
 "metadata": {
  "kernelspec": {
   "display_name": "Python 3",
   "language": "python",
   "name": "python3"
  },
  "language_info": {
   "codemirror_mode": {
    "name": "ipython",
    "version": 3
   },
   "file_extension": ".py",
   "mimetype": "text/x-python",
   "name": "python",
   "nbconvert_exporter": "python",
   "pygments_lexer": "ipython3",
   "version": "3.6.5"
  }
 },
 "nbformat": 4,
 "nbformat_minor": 4
}
