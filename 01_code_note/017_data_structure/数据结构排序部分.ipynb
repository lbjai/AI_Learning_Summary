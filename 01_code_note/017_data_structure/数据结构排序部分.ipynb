{
 "cells": [
  {
   "cell_type": "markdown",
   "metadata": {},
   "source": [
    "## 1.插入排序"
   ]
  },
  {
   "cell_type": "markdown",
   "metadata": {},
   "source": [
    "它的基本思想是将一个记录插入到已经排好序的有序表中，从而一个新的、记录数增 1 的有序表。\n",
    "在其实现过程使用双层循环，\n",
    "外层循环对除了第一个元素之外的所有元素，\n",
    "内层循环对当前元素前面有序表进行待插入位置查找，并进行移动。\n",
    "\n",
    "基本思想：插入排序的工作原理是通过构建有序序列，在已排序序列中从后向前扫描，找到相应位置并插入。\n",
    "插入排序在实现上，通常采用in-place排序（即只需用到O(1)的额外空间的排序），\n",
    "因而在从后向前扫描过程中，需要反复把已排序元素逐步向后挪位，为最新元素提供插入空间。"
   ]
  },
  {
   "cell_type": "code",
   "execution_count": 1,
   "metadata": {},
   "outputs": [
    {
     "name": "stdout",
     "output_type": "stream",
     "text": [
      "[1, 2, 3, 4, 5, 6, 7, 8, 9]\n"
     ]
    }
   ],
   "source": [
    "def insertion_sort(nums):\n",
    "    \"\"\"\n",
    "    ① 从第一个元素开始，该元素可以认为已经被排序\n",
    "    ② 取出下一个元素，在已经排序的元素序列中从后向前扫描\n",
    "    ③如果该元素（已排序）大于新元素，将该元素移到下一位置\n",
    "    ④ 重复步骤③，直到找到已排序的元素小于或者等于新元素的位置\n",
    "    ⑤将新元素插入到该位置后\n",
    "    ⑥ 重复步骤②~⑤\n",
    "    :param nums:\n",
    "    :return:\n",
    "    \"\"\"\n",
    "    for i in range(1, len(nums)):\n",
    "        cur = i\n",
    "        for j in range(i-1, -1, -1):\n",
    "            if nums[cur] < nums[j]:\n",
    "                nums[cur], nums[j] = nums[j], nums[cur]\n",
    "                cur -= 1\n",
    "    return nums\n",
    "\n",
    "\n",
    "print(insertion_sort([5, 4, 6, 3, 7, 2, 8, 1, 9]))"
   ]
  },
  {
   "cell_type": "markdown",
   "metadata": {},
   "source": [
    "- 平均时间复杂度：O(N^2)\n",
    "- 最差时间复杂度：O(N^2)\n",
    "- 空间复杂度：O(1)\n",
    "- 排序方式：In-place\n",
    "- 稳定性：稳定"
   ]
  },
  {
   "cell_type": "markdown",
   "metadata": {},
   "source": [
    "## 2.希尔排序\n",
    "\n",
    "希尔排序的实质就是分组插入排序  \n",
    "先将整个待排元素序列分割成若干个子序列（由相隔某个“增量”的元素组成的）分别进行直接插入排序，  \n",
    "然后依次缩减增量再进行排序，待整个序列中的元素基本有序（增量足够小）时，再对全体元素进行一次直接插入排序。  \n",
    "因为直接插入排序在元素基本有序的情况下（接近最好情况），效率是很高的，因此希尔排序在时间效率上比前两种方法有较大提高。  "
   ]
  },
  {
   "cell_type": "code",
   "execution_count": 3,
   "metadata": {},
   "outputs": [
    {
     "name": "stdout",
     "output_type": "stream",
     "text": [
      "[1, 2, 3, 4, 5, 6, 7, 8]\n"
     ]
    }
   ],
   "source": [
    "def shell_sort(nums):\n",
    "    \"\"\"\n",
    "    ① 先取一个小于n的整数step作为第一个增量，把文件的全部记录分成step个组。\n",
    "    ② 所有距离为step的倍数的记录放在同一个组中，在各组内进行直接插入排序。\n",
    "    ③ 取第二个增量d2小于d1重复上述的分组和排序，直至所取的增量dt=1(dt小于dt-l小于…小于d2小于d1)，\n",
    "    即所有记录放在同一组中进行直接插入排序为止。\n",
    "    :param nums:\n",
    "    :return:\n",
    "    \"\"\"\n",
    "    step = len(nums) // 2\n",
    "    while step >= 1:\n",
    "        for i in range(step, len(nums)):\n",
    "            cur = i\n",
    "            while nums[cur - step] > nums[cur] and cur - step >= 0:\n",
    "                nums[cur], nums[cur - step] = nums[cur - step], nums[cur]\n",
    "                cur -= 1\n",
    "        step //= 2\n",
    "    return nums\n",
    "\n",
    "\n",
    "print(shell_sort([4, 5, 3, 6, 7, 2, 1, 8]))"
   ]
  },
  {
   "cell_type": "markdown",
   "metadata": {},
   "source": [
    "## 3.冒泡排序"
   ]
  },
  {
   "cell_type": "code",
   "execution_count": 4,
   "metadata": {},
   "outputs": [
    {
     "name": "stdout",
     "output_type": "stream",
     "text": [
      "[1, 2, 3, 4, 5, 6, 7, 8]\n"
     ]
    }
   ],
   "source": [
    "def bubble_sort(nums):\n",
    "    for i in range(len(nums)):\n",
    "        for j in range(i, len(nums)):\n",
    "            if nums[i] > nums[j]:\n",
    "                nums[i], nums[j] = nums[j], nums[i]\n",
    "    return nums\n",
    "\n",
    "\n",
    "print(bubble_sort([4, 5, 3, 6, 2, 7, 1, 8]))"
   ]
  },
  {
   "cell_type": "markdown",
   "metadata": {},
   "source": [
    "## 4.选择排序\n",
    "首先在未排序序列中找到最小元素，存放到排序序列的起始位置，   \n",
    "然后再从剩余未排序元素中继续寻找最小元素，然后放到已排序序列的末尾。 "
   ]
  },
  {
   "cell_type": "code",
   "execution_count": 6,
   "metadata": {},
   "outputs": [
    {
     "name": "stdout",
     "output_type": "stream",
     "text": [
      "[1, 2, 3, 4, 5, 6, 7, 8, 9]\n"
     ]
    }
   ],
   "source": [
    "def selection_sort(nums):\n",
    "    for i in range(len(nums)):\n",
    "        min_index = i\n",
    "        for j in range(i + 1, len(nums)):\n",
    "            if nums[min_index] > nums[j]:\n",
    "                min_index = j\n",
    "        nums[i], nums[min_index] = nums[min_index], nums[i]\n",
    "    return nums\n",
    "\n",
    "\n",
    "print(selection_sort(nums=[5, 4, 6, 3, 7, 2, 8, 1, 9]))"
   ]
  },
  {
   "cell_type": "markdown",
   "metadata": {},
   "source": [
    "## 5.快速排序\n",
    "\n",
    "快速排序通过分治法和递归原理来实现，分治法的主要作用是把一个序列分成两个序列，   \n",
    "等递归到底部时，数列的大小是1，也就排序好了"
   ]
  },
  {
   "cell_type": "code",
   "execution_count": 9,
   "metadata": {},
   "outputs": [
    {
     "name": "stdout",
     "output_type": "stream",
     "text": [
      "[1, 3, 4, 5, 6, 7, 7, 8, 9]\n"
     ]
    }
   ],
   "source": [
    "import random\n",
    "\n",
    "def quick_sort(nums):\n",
    "    \"\"\"\n",
    "    ① 从数列中挑出一个元素，称为 “基准”（pivot），\n",
    "    ② 重新排序数列，所有元素比基准值小的摆放在基准前面，所有元素比基准值大的摆在基准的后面（相同的数可以到任一边）。\n",
    "        在这个分区退出之后，该基准就处于数列的中间位置。这个称为分区（partition）操作。\n",
    "    ③ 递归地（recursive）把小于基准值元素的子数列和大于基准值元素的子数列排序。\n",
    "    :param nums:\n",
    "    :return:\n",
    "    \"\"\"\n",
    "    if len(nums) <= 1:\n",
    "        return nums\n",
    "    index = random.randint(0, len(nums) - 1)\n",
    "    value = nums.pop(index)\n",
    "    left = [i for i in nums if i < value]\n",
    "    right = [i for i in nums if i >= value]\n",
    "    return quick_sort(left) + [value] + quick_sort(right)\n",
    "\n",
    "\n",
    "print(quick_sort([4, 5, 6, 3, 7, 7, 8, 1, 9]))"
   ]
  },
  {
   "cell_type": "markdown",
   "metadata": {},
   "source": [
    "## 6.归并排序\n",
    "\n",
    "归并排序是用分治思想，分治模式在每一层递归上有三个步骤：\n",
    "\n",
    "- 分解（Divide）：将n个元素分成个含n//2个元素的子序列。\n",
    "- 解决（Conquer）：用合并排序法对两个子序列递归的排序。\n",
    "- 合并（Combine）：合并两个已排序的子序列已得到排序结果。"
   ]
  },
  {
   "cell_type": "code",
   "execution_count": 10,
   "metadata": {},
   "outputs": [
    {
     "name": "stdout",
     "output_type": "stream",
     "text": [
      "[1, 2, 3, 4, 5, 6, 7, 8, 9]\n"
     ]
    }
   ],
   "source": [
    "def merge(left, right):\n",
    "    res = []\n",
    "    while left and right:\n",
    "        if left[0] < right[0]:\n",
    "            res.append(left.pop(0))\n",
    "        else:\n",
    "            res.append(right.pop(0))\n",
    "    res += left\n",
    "    res += right\n",
    "    return res\n",
    "\n",
    "\n",
    "def merge_sort(nums):\n",
    "    if len(nums) <= 1:\n",
    "        return nums\n",
    "    mid = len(nums) // 2\n",
    "    left = merge_sort(nums[:mid])\n",
    "    right = merge_sort(nums[mid:])\n",
    "    return merge(left, right)\n",
    "\n",
    "\n",
    "print(merge_sort([5, 4, 2, 1, 6, 9, 8, 7, 3]))"
   ]
  },
  {
   "cell_type": "markdown",
   "metadata": {},
   "source": [
    "- 平均时间复杂度：O(nlogn)\n",
    "- 最佳时间复杂度：O(n)\n",
    "- 最差时间复杂度：O(nlogn)\n",
    "- 空间复杂度：O(n)\n",
    "- 排序方式：In-place\n",
    "- 稳定性：稳定"
   ]
  },
  {
   "cell_type": "markdown",
   "metadata": {},
   "source": [
    "- 堆排序（Heap Sort）：https://zhuanlan.zhihu.com/p/12488505\n",
    "- 计数排序（Counting Sort）：\n",
    "- 桶排序（Bucket Sort）\n",
    "- 基数排序（Radix Sort）"
   ]
  },
  {
   "cell_type": "code",
   "execution_count": null,
   "metadata": {},
   "outputs": [],
   "source": []
  }
 ],
 "metadata": {
  "kernelspec": {
   "display_name": "Python 3",
   "language": "python",
   "name": "python3"
  },
  "language_info": {
   "codemirror_mode": {
    "name": "ipython",
    "version": 3
   },
   "file_extension": ".py",
   "mimetype": "text/x-python",
   "name": "python",
   "nbconvert_exporter": "python",
   "pygments_lexer": "ipython3",
   "version": "3.6.5"
  }
 },
 "nbformat": 4,
 "nbformat_minor": 4
}
