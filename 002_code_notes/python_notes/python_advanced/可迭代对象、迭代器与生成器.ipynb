{
 "cells": [
  {
   "cell_type": "markdown",
   "metadata": {},
   "source": [
    "### 1、迭代\n",
    "\n",
    "通过重复执行的代码处理相似的数据集的过程，并且本次迭代的处理数据要依赖上一次的结果继续往下做，上一次产生的结果为下一次产生结果的初始状态，如果中途有任何停顿，都不能算是迭代。"
   ]
  },
  {
   "cell_type": "code",
   "execution_count": 1,
   "metadata": {},
   "outputs": [
    {
     "name": "stdout",
     "output_type": "stream",
     "text": [
      "hello world\n",
      "hello world\n",
      "hello world\n"
     ]
    }
   ],
   "source": [
    "# 非迭代例子\n",
    "n = 0\n",
    "while n < 3:\n",
    "    print('hello world')\n",
    "    n += 1"
   ]
  },
  {
   "cell_type": "code",
   "execution_count": 2,
   "metadata": {},
   "outputs": [
    {
     "name": "stdout",
     "output_type": "stream",
     "text": [
      "第1次 hello world\n",
      "第2次 hello world\n",
      "第3次 hello world\n"
     ]
    }
   ],
   "source": [
    "# 迭代例子\n",
    "n = 0\n",
    "while n < 3:\n",
    "    print('第%s次 hello world'%(n+1))\n",
    "    n += 1"
   ]
  },
  {
   "cell_type": "markdown",
   "metadata": {},
   "source": [
    "前者循环内3次输出\" Hello world\"，输出的数据不依赖上一次的数据，因此不是跌代。而后者的循环内打印的3次数据都上一次循环的影响，所以是迭代。"
   ]
  },
  {
   "cell_type": "markdown",
   "metadata": {},
   "source": [
    "### 2、容器 container\n",
    "\n",
    "容器是一种把多个元素组织在一起的数据结构，容器中的元素可以逐个地迭代获取，可以用 **in, not in**关键字判断元素是否包含在容器中。\n",
    "\n",
    "- 从字面上理解，容器基本上可以包含其他类型对象（如列表、元组、字典等）作为元素的对象；在 Python 常见的数据类型中几乎所有的数据类型（字符串除外）都能包含其它类型的对象；\n",
    "\n",
    "- 容器仅仅只是用来存放数据的，我们平常看到的 l = [1,2,3,4] 等等，表面上我们可以直接从列表容器中取出元素，但事实上容器并不提供这种能力，而是**可迭代对象**赋予了容器这种能力。"
   ]
  },
  {
   "cell_type": "markdown",
   "metadata": {},
   "source": [
    "### 3、可迭代对象(Iterable)\n",
    "\n",
    "#### 3.1 基本概念\n",
    "\n",
    "可迭代对象并不是指某种具体的数据类型，它是指存储了元素的一个容器对象，且容器中的元素可以通过`__iter__( )`方法或`__getitem__( )`方法访问。\n",
    "- Python实现一个通用的外部可以访问可迭代对象内部数据的接口:\n",
    "    - `__iter__()`方法的作用是让对象可以用 `for ... in` 循环遍历\n",
    "    - `__getitem__( )`方法是让对象可以通过“实例名[index/key]”的方式访问实例中的元素\n",
    "\n",
    "- 一个可迭代对象是不能独立进行迭代的，Python中，迭代是通过 `for ... in` 来完成的。凡是可迭代对象都可以直接用 `for...in` 循环访问，这个语句其实做了两件事：第一件事是调用 `__iter__()` 获得一个可迭代器，第二件事是循环调用`__next__()`。\n",
    "\n",
    "#### 3.2 判断一个对象是不是可迭代对象\n",
    "\n",
    "可以使用 `isinstance()` 判断一个对象是否是 Iterable 对象"
   ]
  },
  {
   "cell_type": "code",
   "execution_count": 3,
   "metadata": {},
   "outputs": [
    {
     "name": "stdout",
     "output_type": "stream",
     "text": [
      "字典 is Iterable\n",
      "列表 is Iterable\n",
      "字符串 is Iterable\n",
      "元祖 is Iterable\n",
      "集合 is Iterable\n",
      "MyDataType1 is Iterable\n",
      "MyDataType2 is not Iterable\n",
      "数字 is not Iterable\n",
      "boolen is not Iterable\n",
      "None is not Iterable\n"
     ]
    }
   ],
   "source": [
    "from collections import Iterable\n",
    "\n",
    "class MyDataType1:\n",
    "    # 自定义的数据类型1\n",
    "    def __iter__(self):\n",
    "        pass\n",
    "    \n",
    "class MyDataType2:\n",
    "    # 自定义的数据类型2\n",
    "    pass\n",
    "    \n",
    "# 自定义的数据类型实例化\n",
    "mydatatype1 = MyDataType1()\n",
    "mydatatype2 = MyDataType2()\n",
    "\n",
    "data_info = {\"字典\":{},  \"列表\":[],  \"字符串\":'abc',\n",
    "             \"元祖\":(1,),\"集合\":{1,},\"MyDataType1\": mydatatype1, \"MyDataType2\": mydatatype2, \n",
    "             \"数字\":100,\"boolen\":True, \"None\":None}\n",
    "for key,value in data_info.items():\n",
    "    result = isinstance(value, Iterable)\n",
    "    if result:\n",
    "        print(f\"{key} is Iterable\")\n",
    "    else:\n",
    "        print(f\"{key} is not Iterable\")\n"
   ]
  },
  {
   "cell_type": "markdown",
   "metadata": {},
   "source": [
    "结合上述代码发现，添加了`__iter__`方法的 MyDataType1 对象已经是一个可迭代对象啦！！！"
   ]
  },
  {
   "cell_type": "markdown",
   "metadata": {},
   "source": [
    "#### 3.3 `__iter__()`函数与`next()`函数 \n",
    "\n",
    "- iter 函数是让对象可以用 `for ... in` 循环遍历，即将对象转变为迭代器。\n",
    "- next 函数要和iter() 函数一起使用，**不断使用next()函数来获取下一条数据**（for 循环实现的原因）。"
   ]
  },
  {
   "cell_type": "code",
   "execution_count": 4,
   "metadata": {},
   "outputs": [
    {
     "ename": "TypeError",
     "evalue": "'list' object is not an iterator",
     "output_type": "error",
     "traceback": [
      "\u001b[0;31m---------------------------------------------------------------------------\u001b[0m",
      "\u001b[0;31mTypeError\u001b[0m                                 Traceback (most recent call last)",
      "\u001b[0;32m<ipython-input-4-b5d17e146774>\u001b[0m in \u001b[0;36m<module>\u001b[0;34m\u001b[0m\n\u001b[1;32m      1\u001b[0m \u001b[0;31m# 没有 iter 时，next 能使用\u001b[0m\u001b[0;34m\u001b[0m\u001b[0;34m\u001b[0m\u001b[0m\n\u001b[1;32m      2\u001b[0m \u001b[0mli\u001b[0m \u001b[0;34m=\u001b[0m \u001b[0;34m[\u001b[0m\u001b[0;36m11\u001b[0m\u001b[0;34m,\u001b[0m \u001b[0;36m22\u001b[0m\u001b[0;34m,\u001b[0m \u001b[0;36m33\u001b[0m\u001b[0;34m,\u001b[0m \u001b[0;36m44\u001b[0m\u001b[0;34m,\u001b[0m \u001b[0;36m55\u001b[0m\u001b[0;34m]\u001b[0m\u001b[0;34m\u001b[0m\u001b[0m\n\u001b[0;32m----> 3\u001b[0;31m \u001b[0mnext\u001b[0m\u001b[0;34m(\u001b[0m\u001b[0mli\u001b[0m\u001b[0;34m)\u001b[0m\u001b[0;34m\u001b[0m\u001b[0m\n\u001b[0m",
      "\u001b[0;31mTypeError\u001b[0m: 'list' object is not an iterator"
     ]
    }
   ],
   "source": [
    "# 没有 iter 时，next 能使用\n",
    "li = [11, 22, 33, 44, 55]\n",
    "next(li)"
   ]
  },
  {
   "cell_type": "code",
   "execution_count": 5,
   "metadata": {},
   "outputs": [
    {
     "data": {
      "text/plain": [
       "11"
      ]
     },
     "execution_count": 5,
     "metadata": {},
     "output_type": "execute_result"
    }
   ],
   "source": [
    "li = [11, 22, 33, 44, 55]\n",
    "li = iter(li) # iter()函数实际上就是调用了可迭 代对象的 __iter__ 方法。\n",
    "next(li)"
   ]
  },
  {
   "cell_type": "markdown",
   "metadata": {},
   "source": [
    "### 4、迭代器（Iterator）\n",
    "\n",
    "#### 4.1 基本概念\n",
    "迭代器可以看作是一个特殊的对象，每次调用该对象时会返回自身的下一个元素，从实现上来看，一个迭代器对象必须是定义了`__iter__()`方法和`next()`方法的对象。\n",
    "\n",
    "- Python 的 Iterator对象 表示的是一个数据流，可以把这个数据流看做是一个有序序列，但**不能提前知道序列的长度**，所以Iterator的计算是惰性的，只有在需要返回下一个数据时它才会计算；\n",
    "- Iterator对象可以被next()函数调用并不断返回下一个数据，直到没有数据时抛出StopIteration错误；\n",
    "- 所有的 Iterable 可迭代对象均可以通过内置函数 `iter()`来转变为迭代器 Iterator。\n",
    "- 优点：节约内存（循环过程中，数据不用一次读入，在处理文件对象时特别有用，因为文件也是迭代器对象）、不依赖索引取值、实现惰性计算(需要时再取值计算)；\n",
    "- 缺点: 迭代器使用上存在限制：只能向前一个个地访问数据，已访问数据无法再次访问、遍历访问一次后再访问无数据"
   ]
  },
  {
   "cell_type": "code",
   "execution_count": 6,
   "metadata": {},
   "outputs": [
    {
     "ename": "TypeError",
     "evalue": "object of type 'list_iterator' has no len()",
     "output_type": "error",
     "traceback": [
      "\u001b[0;31m---------------------------------------------------------------------------\u001b[0m",
      "\u001b[0;31mTypeError\u001b[0m                                 Traceback (most recent call last)",
      "\u001b[0;32m<ipython-input-6-0f3ba65b9307>\u001b[0m in \u001b[0;36m<module>\u001b[0;34m\u001b[0m\n\u001b[1;32m      1\u001b[0m \u001b[0;31m# 不能提前知道迭代器的长度\u001b[0m\u001b[0;34m\u001b[0m\u001b[0;34m\u001b[0m\u001b[0m\n\u001b[1;32m      2\u001b[0m \u001b[0mli\u001b[0m \u001b[0;34m=\u001b[0m \u001b[0miter\u001b[0m\u001b[0;34m(\u001b[0m\u001b[0;34m[\u001b[0m\u001b[0;36m11\u001b[0m\u001b[0;34m,\u001b[0m \u001b[0;36m22\u001b[0m\u001b[0;34m]\u001b[0m\u001b[0;34m)\u001b[0m\u001b[0;34m\u001b[0m\u001b[0m\n\u001b[0;32m----> 3\u001b[0;31m \u001b[0mprint\u001b[0m\u001b[0;34m(\u001b[0m\u001b[0mlen\u001b[0m\u001b[0;34m(\u001b[0m\u001b[0mli\u001b[0m\u001b[0;34m)\u001b[0m\u001b[0;34m)\u001b[0m\u001b[0;34m\u001b[0m\u001b[0m\n\u001b[0m",
      "\u001b[0;31mTypeError\u001b[0m: object of type 'list_iterator' has no len()"
     ]
    }
   ],
   "source": [
    "# 不能提前知道迭代器的长度\n",
    "li = iter([11, 22]) \n",
    "print(len(li))"
   ]
  },
  {
   "cell_type": "code",
   "execution_count": 7,
   "metadata": {},
   "outputs": [
    {
     "name": "stdout",
     "output_type": "stream",
     "text": [
      "11\n",
      "22\n"
     ]
    },
    {
     "ename": "StopIteration",
     "evalue": "",
     "output_type": "error",
     "traceback": [
      "\u001b[0;31m---------------------------------------------------------------------------\u001b[0m",
      "\u001b[0;31mStopIteration\u001b[0m                             Traceback (most recent call last)",
      "\u001b[0;32m<ipython-input-7-3d729d10b8b7>\u001b[0m in \u001b[0;36m<module>\u001b[0;34m\u001b[0m\n\u001b[1;32m      3\u001b[0m \u001b[0mprint\u001b[0m\u001b[0;34m(\u001b[0m\u001b[0mnext\u001b[0m\u001b[0;34m(\u001b[0m\u001b[0mli\u001b[0m\u001b[0;34m)\u001b[0m\u001b[0;34m)\u001b[0m\u001b[0;34m\u001b[0m\u001b[0m\n\u001b[1;32m      4\u001b[0m \u001b[0mprint\u001b[0m\u001b[0;34m(\u001b[0m\u001b[0mnext\u001b[0m\u001b[0;34m(\u001b[0m\u001b[0mli\u001b[0m\u001b[0;34m)\u001b[0m\u001b[0;34m)\u001b[0m\u001b[0;34m\u001b[0m\u001b[0m\n\u001b[0;32m----> 5\u001b[0;31m \u001b[0mprint\u001b[0m\u001b[0;34m(\u001b[0m\u001b[0mnext\u001b[0m\u001b[0;34m(\u001b[0m\u001b[0mli\u001b[0m\u001b[0;34m)\u001b[0m\u001b[0;34m)\u001b[0m\u001b[0;34m\u001b[0m\u001b[0m\n\u001b[0m",
      "\u001b[0;31mStopIteration\u001b[0m: "
     ]
    }
   ],
   "source": [
    "# next 访问直至出现 StopIteration\n",
    "li = iter([11, 22]) \n",
    "print(next(li))\n",
    "print(next(li))\n",
    "print(next(li))"
   ]
  },
  {
   "cell_type": "code",
   "execution_count": 8,
   "metadata": {},
   "outputs": [
    {
     "name": "stdout",
     "output_type": "stream",
     "text": [
      "11\n",
      "22\n"
     ]
    }
   ],
   "source": [
    "# for 循环访问\n",
    "li = iter([11, 22])\n",
    "for i in li: print(i)"
   ]
  },
  {
   "cell_type": "markdown",
   "metadata": {},
   "source": [
    "#### 4.2 如何判断一个对象是否是迭代器 \n",
    "\n",
    "可以使用 isinstance() 判断一个对象是否是 Iterator 对象"
   ]
  },
  {
   "cell_type": "code",
   "execution_count": 9,
   "metadata": {},
   "outputs": [
    {
     "name": "stdout",
     "output_type": "stream",
     "text": [
      "字典 is Iterable   is not Iterator\n",
      "列表 is Iterable   is not Iterator\n",
      "字符串 is Iterable   is not Iterator\n",
      "元祖 is Iterable   is not Iterator\n",
      "集合 is Iterable   is not Iterator\n",
      "MyDataType1 is Iterable   is not Iterator\n",
      "MyDataType2 is not Iterable  is not Iterator\n",
      "数字 is not Iterable  is not Iterator\n",
      "boolen is not Iterable  is not Iterator\n",
      "None is not Iterable  is not Iterator\n"
     ]
    }
   ],
   "source": [
    "from collections import Iterator\n",
    "\n",
    "for key,value in data_info.items():\n",
    "    result = isinstance(value, Iterable)\n",
    "    if result:\n",
    "        print(f\"{key} is Iterable  \", end=' ')\n",
    "    else:\n",
    "        print(f\"{key} is not Iterable  \", end='')\n",
    "    if isinstance(value, Iterator):\n",
    "        print(f\"is Iterator\")\n",
    "    else:\n",
    "        print(f\"is not Iterator\")"
   ]
  },
  {
   "cell_type": "code",
   "execution_count": 10,
   "metadata": {},
   "outputs": [
    {
     "name": "stdout",
     "output_type": "stream",
     "text": [
      "True\n",
      "True\n"
     ]
    }
   ],
   "source": [
    "class MyIterator:\n",
    "    def __iter__(self):\n",
    "        pass\n",
    "    def __next__(self):\n",
    "        pass\n",
    "myiterator = MyIterator()\n",
    "print(isinstance(myiterator, Iterable)) \n",
    "print(isinstance(myiterator, Iterator))"
   ]
  },
  {
   "cell_type": "markdown",
   "metadata": {},
   "source": [
    "我们发现:\n",
    "- **一个实现了 `__iter__()` 方法和 `__next__()` 方法的对象，才是迭代器。**\n",
    "- **一个对象是可迭代对象，但是不一定是迭代器；一个迭代器对象一定是可迭代对象。**\n"
   ]
  },
  {
   "cell_type": "markdown",
   "metadata": {},
   "source": [
    "### 5、生成器 （generator）\n",
    "\n",
    "在 Python 中，使用了 `yield` 的函数被称为生成器。\n",
    "\n",
    "跟普通函数不同的是，**生成器是一个返回迭代器的函数，只能用于迭代操作，更简单点理解生成器就是一个迭代器。**\n",
    "\n",
    "在调用生成器运行的过程中，每次遇到 yield 时函数会暂停并保存当前所有的运行信息，返回 yield 的值, 并在下一次执行 next() 方法时从当前位置继续运行。\n",
    "\n",
    "调用一个生成器函数，返回的是一个迭代器对象。\n",
    "\n",
    "#### 5.1 创建生成器的方式1:"
   ]
  },
  {
   "cell_type": "code",
   "execution_count": 11,
   "metadata": {},
   "outputs": [
    {
     "name": "stdout",
     "output_type": "stream",
     "text": [
      "[0, 2, 4, 6, 8]\n",
      "<generator object <genexpr> at 0x10a544990>\n"
     ]
    }
   ],
   "source": [
    "# 第一种方法很简单，只要把一个列表生成式的 [ ] 改成 ( )\n",
    "L = [ x*2 for x in range(5)]\n",
    "print(L) \n",
    "\n",
    "G = ( x*2 for x in range(5))\n",
    "print(G)"
   ]
  },
  {
   "cell_type": "markdown",
   "metadata": {},
   "source": [
    "创建 L 和 G 的区别仅在于最外层的 [ ] 和 ( ) ， L 是一个列表，而 G 是一个生成器。\n",
    "\n",
    "我们可以直接 打印出列表L的每一个元素，而对于生成器G，我们可以按照迭代器的使用方法来使用，即可以通 过next()函数、for循环、list()等方法使用。\n",
    "\n",
    "#### 5.2 创建生成器的方式2:\n",
    "\n",
    "generator非常强大。如果推算的算法比较复杂，用类似列表生成式的 for 循环无法实现的时候，还可以用函数来实现。"
   ]
  },
  {
   "cell_type": "code",
   "execution_count": 12,
   "metadata": {},
   "outputs": [
    {
     "data": {
      "text/plain": [
       "<generator object fibonacci at 0x10a544a98>"
      ]
     },
     "execution_count": 12,
     "metadata": {},
     "output_type": "execute_result"
    }
   ],
   "source": [
    "def fibonacci(n): # 生成器函数 - 斐波那契\n",
    "    a, b, counter = 0, 1, 0\n",
    "    while True:\n",
    "        if (counter > n): \n",
    "            return\n",
    "        yield a\n",
    "        a, b = b, a + b\n",
    "        counter += 1\n",
    "f = fibonacci(10) # f 是一个迭代器，由生成器返回生\n",
    "f"
   ]
  },
  {
   "cell_type": "markdown",
   "metadata": {},
   "source": [
    "#### 5.3 访问生成器数据"
   ]
  },
  {
   "cell_type": "code",
   "execution_count": 13,
   "metadata": {},
   "outputs": [
    {
     "name": "stdout",
     "output_type": "stream",
     "text": [
      "第1种方式访问:\n",
      "[0, 1, 1, 2, 3, 5, 8, 13, 21, 34, 55]\n",
      "第2种方式访问:\n",
      "0 1 1 2 3 5 8 13 21 34 55 \n",
      "第3种方式访问:\n",
      "0 1 1 2 3 5 8 13 21 34 55 "
     ]
    }
   ],
   "source": [
    "# list 等方法\n",
    "print(\"第1种方式访问:\")\n",
    "print(list(fibonacci(10)))\n",
    "    \n",
    "# next 函数\n",
    "print(\"第2种方式访问:\")\n",
    "f = fibonacci(10)\n",
    "while True:\n",
    "    try:\n",
    "        print(next(f), end=\" \")\n",
    "    except StopIteration:\n",
    "        print()\n",
    "        break\n",
    "    \n",
    "# for 循环\n",
    "print(\"第3种方式访问:\")\n",
    "f = fibonacci(10)\n",
    "for i in f:\n",
    "      print(f\"{i} \", end=\"\")"
   ]
  },
  {
   "cell_type": "markdown",
   "metadata": {},
   "source": [
    "- 使用了yield关键字的函数不再是函数，而是生成器。（使用了yield的函数就是生成器） \n",
    "- yield关键字有两点作用：\n",
    "    - 保存当前运行状态（断点），然后暂停执行，即将生成器（函数）挂起 \n",
    "    - 将yield关键字后面表达式的值作为返回值返回，此时可以理解为起到了return的作用 \n",
    "- 可以使用next()函数让生成器从断点处继续执行，即唤醒生成器（函数） \n",
    "\n",
    "#### 5.4 生成器与生成器函数的判断区分\n",
    "\n",
    "使用 isgeneratorfunction 判断一个函数是不是生成器函数；\n",
    "使用 isinstance 和 types.GeneratorType 判断一个对象是不是生成器对象"
   ]
  },
  {
   "cell_type": "code",
   "execution_count": 14,
   "metadata": {},
   "outputs": [
    {
     "name": "stdout",
     "output_type": "stream",
     "text": [
      "f 函数是生成器函数？: True\n",
      "f(5) 是生成器函数？: False\n",
      "f(5) 是生成器对象？: True\n",
      " G   是生成器对象？: True\n"
     ]
    }
   ],
   "source": [
    "from inspect import isgeneratorfunction \n",
    "import types\n",
    "\n",
    "def f(x):\n",
    "    # 生成器函数\n",
    "    yield x\n",
    "    \n",
    "# 生成器对象\n",
    "G = (x*2 for x in range(5))\n",
    "\n",
    "# 生成器函数的判断\n",
    "print(\"f 函数是生成器函数？:\", isgeneratorfunction(f))\n",
    "print(\"f(5) 是生成器函数？:\", isgeneratorfunction(f(5)))\n",
    "\n",
    "# 生成器对象的判断\n",
    "print(\"f(5) 是生成器对象？:\", isinstance(f(5), types.GeneratorType))\n",
    "print(\" G   是生成器对象？:\", isinstance(G, types.GeneratorType))"
   ]
  },
  {
   "cell_type": "markdown",
   "metadata": {},
   "source": [
    "### 6、最后用一张图来表达他们之间的关系\n",
    "![jupyter](https://pic4.zhimg.com/80/v2-95b4076d30e55da078045cdade28cea3_1440w.webp)\n"
   ]
  },
  {
   "cell_type": "markdown",
   "metadata": {},
   "source": [
    "参考资料:\n",
    "- https://blog.csdn.net/LaoYuanPython/article/details/89609187\n",
    "- https://www.cnblogs.com/Aiyuqianer/p/14091062.html\n",
    "- https://www.runoob.com/python3/python3-iterator-generator.html\n",
    "- https://zhuanlan.zhihu.com/p/341439647"
   ]
  },
  {
   "cell_type": "code",
   "execution_count": null,
   "metadata": {},
   "outputs": [],
   "source": []
  }
 ],
 "metadata": {
  "kernelspec": {
   "display_name": "Python 3",
   "language": "python",
   "name": "python3"
  },
  "language_info": {
   "codemirror_mode": {
    "name": "ipython",
    "version": 3
   },
   "file_extension": ".py",
   "mimetype": "text/x-python",
   "name": "python",
   "nbconvert_exporter": "python",
   "pygments_lexer": "ipython3",
   "version": "3.6.5"
  }
 },
 "nbformat": 4,
 "nbformat_minor": 4
}
