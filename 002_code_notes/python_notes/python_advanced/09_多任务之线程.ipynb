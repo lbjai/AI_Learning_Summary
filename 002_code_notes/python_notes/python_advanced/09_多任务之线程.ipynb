{
 "cells": [
  {
   "cell_type": "markdown",
   "metadata": {},
   "source": [
    "### 1.基本概念"
   ]
  },
  {
   "cell_type": "code",
   "execution_count": null,
   "metadata": {},
   "outputs": [],
   "source": [
    "\n",
    "\n",
    "\n"
   ]
  },
  {
   "cell_type": "markdown",
   "metadata": {},
   "source": [
    "### 2.创建线程"
   ]
  },
  {
   "cell_type": "code",
   "execution_count": 1,
   "metadata": {},
   "outputs": [],
   "source": [
    "import threading\n",
    "import time"
   ]
  },
  {
   "cell_type": "code",
   "execution_count": 2,
   "metadata": {},
   "outputs": [
    {
     "name": "stdout",
     "output_type": "stream",
     "text": [
      "听第1首音乐\n",
      "跳第1支舞\n",
      "听第2首音乐跳第2支舞\n",
      "\n",
      "跳第3支舞听第3首音乐\n",
      "\n",
      "听第4首音乐跳第4支舞\n",
      "\n"
     ]
    }
   ],
   "source": [
    "def dance():\n",
    "    \"\"\"跳支舞\"\"\"\n",
    "    for i in range(1, 5):\n",
    "        print(\"跳第%s支舞\"%i)\n",
    "        time.sleep(1)\n",
    "def music():\n",
    "    \"\"\"听音乐\"\"\"\n",
    "    for i in range(1, 5):\n",
    "        print(\"听第%s首音乐\"%i)\n",
    "        time.sleep(1)\n",
    "\n",
    "def main():\n",
    "    \"\"\"多线程的创建\"\"\"\n",
    "    # 创建一个线程\n",
    "    # target这里写的对应的任务就是事情,写的代码就是函数的引用，得到一个线程的对象\n",
    "    thread_music = threading.Thread(target=music)\n",
    "    thread_dance = threading.Thread(target=dance)\n",
    "    # 开启线程\n",
    "    thread_music.start()\n",
    "    thread_dance.start()\n",
    "\n",
    "if __name__ == '__main__':\n",
    "    main()"
   ]
  },
  {
   "cell_type": "markdown",
   "metadata": {},
   "source": [
    "### 3.获取线程的名称和数量"
   ]
  },
  {
   "cell_type": "code",
   "execution_count": 1,
   "metadata": {},
   "outputs": [
    {
     "ename": "NameError",
     "evalue": "name 'threading' is not defined",
     "output_type": "error",
     "traceback": [
      "\u001b[0;31m---------------------------------------------------------------------------\u001b[0m",
      "\u001b[0;31mNameError\u001b[0m                                 Traceback (most recent call last)",
      "\u001b[0;32m<ipython-input-1-158cd93e1a82>\u001b[0m in \u001b[0;36m<module>\u001b[0;34m\u001b[0m\n\u001b[0;32m----> 1\u001b[0;31m \u001b[0mprint\u001b[0m\u001b[0;34m(\u001b[0m\u001b[0;34m\"当前线程的名称:\"\u001b[0m\u001b[0;34m,\u001b[0m \u001b[0mthreading\u001b[0m\u001b[0;34m.\u001b[0m\u001b[0mcurrent_thread\u001b[0m\u001b[0;34m(\u001b[0m\u001b[0;34m)\u001b[0m\u001b[0;34m.\u001b[0m\u001b[0mname\u001b[0m\u001b[0;34m)\u001b[0m\u001b[0;34m\u001b[0m\u001b[0m\n\u001b[0m",
      "\u001b[0;31mNameError\u001b[0m: name 'threading' is not defined"
     ]
    }
   ],
   "source": [
    "print(\"当前线程的名称:\", threading.current_thread().name)"
   ]
  },
  {
   "cell_type": "code",
   "execution_count": null,
   "metadata": {},
   "outputs": [],
   "source": [
    "def main1():\n",
    "    \"\"\"多线程的创建\"\"\"\n",
    "    print(\"当前线程的名称:\", threading.current_thread().name)\n",
    "    print(\"当前线程的数量:\", len(threading.enumerate()))  \n",
    "    # 创建一个线程\n",
    "    # target这里写的对应的任务就是事情,写的代码就是函数的引用，得到一个线程的对象\n",
    "    thread_music = threading.Thread(target=music)\n",
    "    thread_dance = threading.Thread(target=dance)\n",
    "    # 开启线程\n",
    "    thread_music.start()\n",
    "    thread_dance.start()\n",
    "    while True:\n",
    "        current_threading_num = len(threading.enumerate())\n",
    "        print(\"当前线程的数量:%s %s\" % (current_threading_num, threading.current_thread().name))\n",
    "        time.sleep(1)\n",
    "        if current_threading_num <= 1:\n",
    "            break\n",
    "main1()"
   ]
  },
  {
   "cell_type": "code",
   "execution_count": null,
   "metadata": {},
   "outputs": [],
   "source": []
  }
 ],
 "metadata": {
  "kernelspec": {
   "display_name": "Python 3",
   "language": "python",
   "name": "python3"
  },
  "language_info": {
   "codemirror_mode": {
    "name": "ipython",
    "version": 3
   },
   "file_extension": ".py",
   "mimetype": "text/x-python",
   "name": "python",
   "nbconvert_exporter": "python",
   "pygments_lexer": "ipython3",
   "version": "3.6.5"
  }
 },
 "nbformat": 4,
 "nbformat_minor": 4
}
