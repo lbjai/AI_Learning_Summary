{
 "cells": [
  {
   "cell_type": "markdown",
   "metadata": {},
   "source": [
    "### Python 实例方法、类方法和静态方法\n",
    "\n",
    "\n",
    "\n",
    "\n",
    "\n",
    "\n",
    "首先，这三种方法都定义在类中。下面我先简单说一下怎么定义和调用的。（**PS：实例对象的权限最大。**）          \n",
    "\n",
    "- 实例方法\n",
    "    - 定义：第一个参数必须是实例对象，该参数名一般约定为“self”，通过它来传递实例的属性和方法（也可以传类的属性和方法）；\n",
    "    - 调用：只能由实例对象调用。\n",
    "\n",
    "- 类方法\n",
    "    - 定义：使用装饰器`@classmethod`。第一个参数必须是当前类对象，该参数名一般约定为“cls”，通过它来传递类的属性和方法（不能传实例的属性和方法）；\n",
    "    - 调用：实例对象和类对象都可以调用。\n",
    "    - 解释: 类方法就是 Python类 的方法，是这个类可以调用的方法，那么参数需要把这个类本身传进去(必须传的，一般写为cls)，**不需要实例化就可以使用**。\n",
    "\n",
    "- 静态方法\n",
    "    - 定义：使用装饰器`@staticmethod`。参数随意，没有“self”和“cls”参数，**但是方法中不能使用类或实例的任何属性和方法**；\n",
    "    - 调用：实例对象和类对象都可以调用。\n",
    "    - 解释：**静态方法是类中的一个独立的普通函数或者说方法，那么参数和普通函数的传参一样，想怎么传就怎么传，类或者实例化的对象都可以直接使用它，也就是说这个静态方法不需要实例化就可以调用**。静态方法主要是用来存放逻辑性的代码，逻辑上属于类，但是和类本身没有关系，也就是说在静态方法中，**不会涉及到类中的属性和方法的操作**。可以理解为，静态方法是个独立的、单纯的函数，它仅仅托管于某个类的名称空间中，便于使用和维护。\n",
    "\n",
    "譬如，我想定义一个关于时间操作的类，其中有一个获取当前时间的函数。"
   ]
  },
  {
   "cell_type": "code",
   "execution_count": 1,
   "metadata": {},
   "outputs": [
    {
     "name": "stdout",
     "output_type": "stream",
     "text": [
      "实例方法用来传递实例的属性和方法\n"
     ]
    }
   ],
   "source": [
    "class A(object):\n",
    "    \n",
    "    def __init__(self, name):\n",
    "        self.name = name\n",
    "    \n",
    "    # 实例方法\n",
    "    def commond(self):\n",
    "        pass\n",
    "        \n",
    "    # 类方法\n",
    "    @classmethod\n",
    "    def class_method(cls):\n",
    "        pass \n",
    "    \n",
    "    # 静态方法\n",
    "    @staticmethod\n",
    "    def static_method(*args,**kwargs):\n",
    "        pass\n",
    "    \n",
    "    def test_commond(self):\n",
    "        print(\"实例方法用来传递实例的属性和方法\")\n",
    "        # 调用实例方法\n",
    "        self.commond()\n",
    "        # 调用类方法\n",
    "        A.class_method()\n",
    "        # 调用静态方法\n",
    "        self.static_method()\n",
    "        \n",
    "    @classmethod\n",
    "    def test_classmethod(cls):\n",
    "        print(\"类方法来传递类的属性和方法，不能传实例的属性和方法\")\n",
    "        # 调用实例方法\n",
    "        cls.commond(cls)\n",
    "        # 调用静态方法\n",
    "        cls.static_method()\n",
    "        # 调用类方法\n",
    "        cls.class_method()\n",
    "        \n",
    "    @staticmethod\n",
    "    def test_staticmethod(*args, **kwargs):\n",
    "        print(\"不能使用类或实例的任何属性和方法\")\n",
    "        \n",
    "  \n",
    "# 实例化a\n",
    "a = A(\"A\")\n",
    "# 调用实例方法\n",
    "a.test_commond()"
   ]
  },
  {
   "cell_type": "code",
   "execution_count": 2,
   "metadata": {},
   "outputs": [
    {
     "name": "stdout",
     "output_type": "stream",
     "text": [
      "类方法来传递类的属性和方法，不能传实例的属性和方法\n"
     ]
    }
   ],
   "source": [
    "# 调用类方法\n",
    "a.test_classmethod()"
   ]
  },
  {
   "cell_type": "code",
   "execution_count": 3,
   "metadata": {},
   "outputs": [
    {
     "name": "stdout",
     "output_type": "stream",
     "text": [
      "不能使用类或实例的任何属性和方法\n"
     ]
    }
   ],
   "source": [
    "# 调用静态方法\n",
    "a.test_staticmethod()"
   ]
  },
  {
   "cell_type": "code",
   "execution_count": null,
   "metadata": {},
   "outputs": [],
   "source": []
  }
 ],
 "metadata": {
  "kernelspec": {
   "display_name": "Python 3",
   "language": "python",
   "name": "python3"
  },
  "language_info": {
   "codemirror_mode": {
    "name": "ipython",
    "version": 3
   },
   "file_extension": ".py",
   "mimetype": "text/x-python",
   "name": "python",
   "nbconvert_exporter": "python",
   "pygments_lexer": "ipython3",
   "version": "3.6.5"
  }
 },
 "nbformat": 4,
 "nbformat_minor": 4
}
