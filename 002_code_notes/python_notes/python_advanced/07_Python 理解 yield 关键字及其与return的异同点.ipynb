{
 "cells": [
  {
   "cell_type": "markdown",
   "metadata": {},
   "source": [
    "### 1. yield 基本概念\n",
    "\n",
    "带有 yield 的函数在 Python 中被称之为 generator（生成器）, \n",
    "\n",
    "比如列表所有数据都在内存中，如果有海量数据的话将会非常耗内存。仅仅需要访问前面几个元素，那后面绝大多数元素占用的空间都白白浪费了。\n",
    "\n",
    "如果列表元素按照某种算法推算出来，那我们就可以在循环的过程中不断推算出后续的元素，这样就不必创建完整的list，从而节省大量的空间。\n",
    "\n",
    "简单一句话：想要得到庞大的数据，又想让它占用空间少，那就用生成器！\n",
    "\n",
    "因此生成器的主要优点是**一边循环一边计算产生数据的机制，占用内存少，缺点就是只能遍历1次**\n",
    "\n",
    "\n",
    "### 2. 代码实现斐波那契数列\n",
    "\n",
    "斐波那契（Fibonacci）數列是一个非常简单的递归数列，除第一个和第二个数外，任意一个数都可由前两个数相加得到。\n",
    "\n",
    "数列形式: 1,1,2,3,5,8,13，...,"
   ]
  },
  {
   "cell_type": "code",
   "execution_count": 21,
   "metadata": {},
   "outputs": [
    {
     "name": "stdout",
     "output_type": "stream",
     "text": [
      "斐波那契数列第  1 个元素值是 1\n",
      "斐波那契数列第  2 个元素值是 1\n",
      "斐波那契数列第  3 个元素值是 2\n",
      "斐波那契数列第  4 个元素值是 3\n",
      "斐波那契数列第  5 个元素值是 5\n",
      "斐波那契数列第  6 个元素值是 8\n",
      "斐波那契数列第  7 个元素值是 13\n",
      "斐波那契数列第  8 个元素值是 21\n",
      "斐波那契数列第  9 个元素值是 34\n",
      "斐波那契数列第 10 个元素值是 55\n",
      "斐波那契数列第 11 个元素值是 89\n",
      "斐波那契数列第 12 个元素值是 144\n",
      "斐波那契数列第 13 个元素值是 233\n"
     ]
    }
   ],
   "source": [
    "def f(n):\n",
    "    res = []\n",
    "    num,a,b = 1,0,1\n",
    "    while num <= n:\n",
    "        res.append(b)\n",
    "        a,b = b,a+b\n",
    "        num += 1\n",
    "    return res\n",
    "\n",
    "res = f(13)\n",
    "for i,b in enumerate(res):\n",
    "    print(f\"斐波那契数列第 %2s 个元素值是 %s\"%(i+1,b))"
   ]
  },
  {
   "cell_type": "markdown",
   "metadata": {},
   "source": [
    "该函数在运行中占用的内存会随着参数 n 的增大而增大，如果要控制内存占用，最好不要用 List 来保存中间结果，而是通过 iterable 对象来迭代。"
   ]
  },
  {
   "cell_type": "code",
   "execution_count": 29,
   "metadata": {},
   "outputs": [
    {
     "name": "stdout",
     "output_type": "stream",
     "text": [
      "==============================\n",
      "yield before\n",
      "1\n",
      "yield after\n",
      "斐波那契数列第  1 个元素值是 1\n"
     ]
    }
   ],
   "source": [
    "def f(n):\n",
    "    num,a,b = 1,0,1\n",
    "    while num <= n:\n",
    "        print(\"=\"*30)\n",
    "        yield b\n",
    "        print(f\"斐波那契数列第 %2s 个元素值是 %s\"%(num,b))\n",
    "        a,b = b,a+b\n",
    "        num += 1\n",
    "\n",
    "for i in f(1):\n",
    "    print(i)"
   ]
  },
  {
   "cell_type": "code",
   "execution_count": 30,
   "metadata": {},
   "outputs": [
    {
     "name": "stdout",
     "output_type": "stream",
     "text": [
      "==============================\n",
      "yield before\n",
      "1\n",
      "yield after\n",
      "斐波那契数列第  1 个元素值是 1\n",
      "==============================\n",
      "yield before\n",
      "1\n",
      "yield after\n",
      "斐波那契数列第  2 个元素值是 1\n"
     ]
    }
   ],
   "source": [
    "for i in f(2):\n",
    "    print(i)"
   ]
  },
  {
   "cell_type": "markdown",
   "metadata": {},
   "source": [
    "通过上面2个案例看出，当执行`__next__()`时，代码就会执行到 yield 处，然后返回 yield 后面的值，如果继续调用 `__next__()`，你会发现，这次执行的开始位置，是上次 yield 结束的地方，并且它还保留了上一次执行的上下文，继续向后迭代。\n",
    "\n",
    "这就是使用 yield 的作用，在迭代生成器时，每一次执行都可以保留上一次的状态，而不是像普通方法那样，遇到 return 就返回结果，下一次执行只能再次重复上一次的流程。\n",
    "\n",
    "普通函数用 return 返回一个值，在 Python 中还有一种函数，用关键字 yield 来返回值，这种函数叫生成器函数，函数被调用时返回一个生成器对象（**注意返回的不是yield后面的值**）。"
   ]
  },
  {
   "cell_type": "markdown",
   "metadata": {},
   "source": [
    "### 3.return 与 yield 的关系梳理\n",
    "\n",
    "- 共同点：return和yield都用来返回值；在一次性地返回所有值场景中return和yield的作用是一样的。\n",
    "- 不同点：如果要返回的数据是通过for等循环生成的迭代器类型数据（如列表、元组），return只能在循环外部一次性地返回，yeild则可以在循环内部逐个元素返回。\n",
    "    - 执行顺序的区别\n",
    "        - yield: 是暂停函数, 即函数返回某个值时，会停留在某个位置，返回函数值后，会在前面停留的位置继续执行，直到程序结束\n",
    "        - return: 是结束函数, return返回值后不再执行函数体内代码,彻底结束。\n",
    "    - 输出对象的区别\n",
    "        - yield 输出的是一个生成器对象，相当于是一个容器，想取什么数据就取出什么,每次调用只返回一个数值\n",
    "        - return 返回的是一个元组（默认）, 只会返回一个值   \n",
    "\n",
    "\n",
    "**综上所述**:\n",
    "- 使用return空间开销比较大，尤其是操作巨量数据的时候，操作一个大列表时间开销也会得不偿失\n",
    "- yield 生成器相比 return一次返回所有结果的优势：①反应更迅速 ②更节省空间 ③使用更灵活"
   ]
  },
  {
   "cell_type": "markdown",
   "metadata": {},
   "source": [
    "参考资料:\n",
    "- https://blog.csdn.net/huihiu8yuih/article/details/123716677\n",
    "- https://blog.csdn.net/u013185349/article/details/107026132?utm_medium=distribute.pc_relevant.none-task-blog-2~default~baidujs_baidulandingword~default-1-107026132-blog-123032075.pc_relevant_landingrelevant&spm=1001.2101.3001.4242.2&utm_relevant_index=4\n",
    "- https://blog.csdn.net/qq_46906413/article/details/123032075\n"
   ]
  }
 ],
 "metadata": {
  "kernelspec": {
   "display_name": "Python 3",
   "language": "python",
   "name": "python3"
  },
  "language_info": {
   "codemirror_mode": {
    "name": "ipython",
    "version": 3
   },
   "file_extension": ".py",
   "mimetype": "text/x-python",
   "name": "python",
   "nbconvert_exporter": "python",
   "pygments_lexer": "ipython3",
   "version": "3.6.5"
  }
 },
 "nbformat": 4,
 "nbformat_minor": 4
}
