{
 "cells": [
  {
   "cell_type": "markdown",
   "metadata": {},
   "source": [
    "### 1.下载代码没问题，但是push失败\n",
    "\n",
    "remote: Support for password authentication was removed on August 13, 2021.\n",
    "remote: Please see https://docs.github.com/en/get-started/getting-started-with-git/about-remote-repositories#cloning-with-https-urls for information on currently recommended modes of authentication.\n",
    "fatal: 'https://github.com/lbjai/learning_notes.git/' 鉴权失败\n",
    "\n",
    "解决方案：\n",
    "\n",
    "git上传提示鉴权失败的问题：https://blog.csdn.net/weixin_43625263/article/details/124791545\n",
    "\n",
    "GitHub不再支持密码验证：https://blog.csdn.net/qq_25145759/article/details/120136898"
   ]
  },
  {
   "cell_type": "code",
   "execution_count": null,
   "metadata": {},
   "outputs": [],
   "source": []
  }
 ],
 "metadata": {
  "kernelspec": {
   "display_name": "Python 3",
   "language": "python",
   "name": "python3"
  },
  "language_info": {
   "codemirror_mode": {
    "name": "ipython",
    "version": 3
   },
   "file_extension": ".py",
   "mimetype": "text/x-python",
   "name": "python",
   "nbconvert_exporter": "python",
   "pygments_lexer": "ipython3",
   "version": "3.6.5"
  }
 },
 "nbformat": 4,
 "nbformat_minor": 4
}
