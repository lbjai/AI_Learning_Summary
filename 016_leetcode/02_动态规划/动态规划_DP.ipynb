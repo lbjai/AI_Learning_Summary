{
 "cells": [
  {
   "cell_type": "code",
   "execution_count": null,
   "metadata": {},
   "outputs": [],
   "source": []
  },
  {
   "cell_type": "markdown",
   "metadata": {},
   "source": [
    "### 1.什么是动态规划\n",
    "\n",
    "动态规划，英文：Dynamic Programming，简称 **DP**，将问题分解为**互相重叠的子问题，通过反复求解子问题来解决原问题**就是动态规划，如果某一问题有很多重叠子问题，使用动态规划来解是比较有效的。\n",
    "\n",
    "求解动态规划的核心问题是**穷举**，但是这类问题穷举有点特别，因为这类问题存在「重叠子问题」，如果暴力穷举的话效率会极其低下。\n",
    "\n",
    "动态规划问题一定会具备「最优子结构」，才能通过子问题的最值得到原问题的最值。另外，虽然动态规划的核心思想就是穷举求最值，但是问题可以千变万化，穷举所有可行解其实并不是一件容易的事，只有列出**正确的「状态转移方程」**才能正确地穷举。\n",
    "\n",
    "**重叠子问题、最优子结构、状态转移方程**就是动态规划三要素\n",
    "\n",
    "动态规划和其他算法的区别\n",
    "- 动态规划和分治的区别：动态规划和分治都有最优子结构 ，但是分治的子问题不重叠\n",
    "- 动态规划和贪心的区别：动态规划中每一个状态一定是由上一个状态推导出来的，这一点就区分于贪心，贪心没有状态推导，而是从局部直接选最优解，所以它永远是局部最优，但是全局的解不一定是最优的。\n",
    "- 动态规划和递归的区别：递归和回溯可能存在非常多的重复计算，动态规划可以用递归加记忆化的方式减少不必要的重复计算\n",
    "\n",
    "动态规划的解题方法\n",
    "- 递归+记忆化(自顶向下)\n",
    "- 动态规划（自底向上）"
   ]
  },
  {
   "cell_type": "code",
   "execution_count": null,
   "metadata": {},
   "outputs": [],
   "source": []
  }
 ],
 "metadata": {
  "kernelspec": {
   "display_name": "Python 3",
   "language": "python",
   "name": "python3"
  },
  "language_info": {
   "codemirror_mode": {
    "name": "ipython",
    "version": 3
   },
   "file_extension": ".py",
   "mimetype": "text/x-python",
   "name": "python",
   "nbconvert_exporter": "python",
   "pygments_lexer": "ipython3",
   "version": "3.6.5"
  }
 },
 "nbformat": 4,
 "nbformat_minor": 4
}
