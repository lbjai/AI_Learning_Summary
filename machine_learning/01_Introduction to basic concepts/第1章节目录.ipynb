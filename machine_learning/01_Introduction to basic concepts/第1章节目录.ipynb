{
 "cells": [
  {
   "cell_type": "markdown",
   "metadata": {},
   "source": [
    "### 01 机器学习基本概念\n",
    "\n",
    "### 02 机器学习三要素\n",
    "- 模型\n",
    "- 策略\n",
    "- 算法\n",
    "\n",
    "### 03 机器学习流程（重点）\n",
    "\n",
    "### 04 机器学习分类\n",
    "- 任务类型（监督学习、无监督学习、半监督学习、强化学习）\n",
    "- 算法类型（统计学习、深度学习）\n",
    "- 生成模型与判别模型\n",
    "\n",
    "### 05 机器学习核心\n",
    "- 模型评估\n",
    "- 模型选择\n",
    "- 过拟合与欠拟合（重点），包括高方差、高偏差、低方差与低偏差的理解\n",
    "- 正则化（重点）\n",
    "- 交叉验证 （重点）\n",
    "\n",
    "### 06 分类模型指标\n",
    "\n",
    "### 07 回归模型指标\n",
    "\n",
    "### 08 聚类模型指标"
   ]
  },
  {
   "cell_type": "code",
   "execution_count": null,
   "metadata": {},
   "outputs": [],
   "source": []
  }
 ],
 "metadata": {
  "kernelspec": {
   "display_name": "Python 3",
   "language": "python",
   "name": "python3"
  },
  "language_info": {
   "codemirror_mode": {
    "name": "ipython",
    "version": 3
   },
   "file_extension": ".py",
   "mimetype": "text/x-python",
   "name": "python",
   "nbconvert_exporter": "python",
   "pygments_lexer": "ipython3",
   "version": "3.6.5"
  }
 },
 "nbformat": 4,
 "nbformat_minor": 4
}
