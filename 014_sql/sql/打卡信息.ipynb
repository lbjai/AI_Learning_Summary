{
 "cells": [
  {
   "cell_type": "markdown",
   "metadata": {},
   "source": [
    "群公告\n",
    "小伙伴们早上好，今天正式开始《SQL编程语言》航海之旅咯～\n",
    "\n",
    "Task01：环境搭建，初识数据库（2天）\n",
    "\n",
    "打卡截止时间：9月14日03:00 \n",
    "任务：\n",
    "1. 环境搭建，初识数据库；\n",
    "2. 整理学习笔记，输出链接【CSDN、github、简书、Datawhale论坛等】在小程序中打卡。\n",
    "\n",
    "============\n",
    "\n",
    "课程内容参见《课程链接》，访问不了github地址的可访问gitee上的《备份链接》哈~\n",
    "\n",
    "============\n",
    "\n",
    "所有小伙伴的每个学习任务打卡需要有至少50字的学习总结。此外，有精力的小伙伴可以去平台写总结，获得链接，填了可以得到作业反馈。\n",
    "【再次提醒】如果未按时打卡，将要退群处理哦\n",
    "\n",
    "============\n",
    "\n",
    "链接导航栏\n",
    "\n",
    "============\n",
    "【课程链接】\n",
    "\n",
    "开源内容：https://github.com/datawhalechina/wonderful-sql\n",
    "- 开源内容：https://linklearner.com/datawhale-homepage/index.html#/learn/detail/70\n",
    "- 开源内容：https://gitee.com/datawhalechina/wonderful-sql\n",
    "\n",
    "【群规】：\n",
    "1.大家有任何问题尽管在群里问，不要害羞！\n",
    "2.有关本期组队学习的流程、打卡等问题先去《学习者手册》找答案，没找到或者其他特殊情况则@领航员-卢水琼，领航员人好又热心！\n",
    "3.具体学习上遇到的问题先自己尝试思考，如果思考不出来就在大群里@航海士-蝈蝈，@航海士-乔彬，@航海士-阿七，助教有问必答！\n",
    "4.欢迎小伙伴们每次打卡结束后，将打卡链接分享到大群~\n",
    "5. 优秀学员评选标准，（1）完成所有打卡，并且6次课程都提交了文章链接；（2）多次被评选为优秀作业；（3）积极参与讨论、提问、解答或者分享，群内活跃度高；（4）多次提交课程内容的有效勘误或内容迭代优化。\n",
    "\n",
    "【附录】：\n",
    "《学习者手册》：https://mp.weixin.qq.com/s/wXSCQ9fcit7gL0fwAwbtCQ\n",
    "《组队学习小程序使用手册》：https://mp.weixin.qq.com/s/iPmzb72Yk0mhIA2NYezXDg\n",
    "《队长手册》：https://datawhale.feishu.cn/docs/doccn0YOPvNhGt54Tb2JjxLhDmc\n",
    "\n",
    "优秀队员笔记：https://rf8j0i8s4f.feishu.cn/file/boxcn1foj2Y0pHLpD1NCbEJtR7b\n",
    "    \n",
    "Mac平台上有哪些好的SQL 数据库开发工具？https://www.zhihu.com/question/20498949\n",
    "\n",
    "    "
   ]
  },
  {
   "cell_type": "code",
   "execution_count": null,
   "metadata": {},
   "outputs": [],
   "source": []
  }
 ],
 "metadata": {
  "kernelspec": {
   "display_name": "Python 3",
   "language": "python",
   "name": "python3"
  },
  "language_info": {
   "codemirror_mode": {
    "name": "ipython",
    "version": 3
   },
   "file_extension": ".py",
   "mimetype": "text/x-python",
   "name": "python",
   "nbconvert_exporter": "python",
   "pygments_lexer": "ipython3",
   "version": "3.6.5"
  }
 },
 "nbformat": 4,
 "nbformat_minor": 4
}
