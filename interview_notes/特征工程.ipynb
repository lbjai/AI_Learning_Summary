{
 "cells": [
  {
   "cell_type": "markdown",
   "metadata": {},
   "source": [
    "### 1.如何处理类别不平衡问题\n",
    "\n",
    "三种方法：\n",
    "- 对较多的那个类别进行**欠采样**(under-sampling)，舍弃一部分数据，使其与较少类别的数据相当\n",
    "- 对较少的类别进行**过采样**(over-sampling)，重复使用一部分数据，使其与较多类别的数据相当\n",
    "- 阈值调整（threshold moving），将原本默认为0.5的阈值调整到 较少类别/（较少类别+较多类别）即可\n",
    "\n",
    "前面2种的优缺点：\n",
    "- 明显的改变数据分布，训练数据假设不再是真实数据的无偏表述。\n",
    "- 在第一种方法中，我们浪费了很多数据。\n",
    "- 第二类方法中有无中生有或者重复使用了数据，会导致过拟合的发生\n",
    "\n",
    "但不难看出，其实这样的过程是需要花时间处理数据和编程的，对于很多知识和能力有限的人来说难度比较大。\n",
    "\n",
    "特此推荐两个简单易行且效果中上的做法：\n",
    "\n",
    "- 简单的调整阈值，不对数据进行任何处理。此处特指将分类阈值从0.5调整到正例比例\n",
    "- 使用现有的集成学习分类器，如随机森林或者xgboost，并调整分类阈值\n",
    "\n",
    "提出这样建议的原因有：\n",
    "- 首先，简单的阈值调整从经验上看往往比过采样和欠采样有效。\n",
    "- 其次，如果你对统计学知识掌握有限，而且编程能力一般，在集成过程中更容易出错，还不如使用现有的集成学习并调整分类阈值。"
   ]
  },
  {
   "cell_type": "markdown",
   "metadata": {},
   "source": []
  },
  {
   "cell_type": "markdown",
   "metadata": {},
   "source": []
  }
 ],
 "metadata": {
  "kernelspec": {
   "display_name": "Python 3",
   "language": "python",
   "name": "python3"
  },
  "language_info": {
   "codemirror_mode": {
    "name": "ipython",
    "version": 3
   },
   "file_extension": ".py",
   "mimetype": "text/x-python",
   "name": "python",
   "nbconvert_exporter": "python",
   "pygments_lexer": "ipython3",
   "version": "3.6.5"
  }
 },
 "nbformat": 4,
 "nbformat_minor": 4
}
